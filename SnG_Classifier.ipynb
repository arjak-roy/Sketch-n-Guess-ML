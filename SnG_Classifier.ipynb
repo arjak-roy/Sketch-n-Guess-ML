{
  "nbformat": 4,
  "nbformat_minor": 0,
  "metadata": {
    "colab": {
      "provenance": [],
      "authorship_tag": "ABX9TyO/76fNy0v7lTkQim/qcwWE",
      "include_colab_link": true
    },
    "kernelspec": {
      "name": "python3",
      "display_name": "Python 3"
    },
    "language_info": {
      "name": "python"
    }
  },
  "cells": [
    {
      "cell_type": "markdown",
      "metadata": {
        "id": "view-in-github",
        "colab_type": "text"
      },
      "source": [
        "<a href=\"https://colab.research.google.com/github/arjak-roy/Sketch-n-Guess-ML/blob/main/SnG_Classifier.ipynb\" target=\"_parent\"><img src=\"https://colab.research.google.com/assets/colab-badge.svg\" alt=\"Open In Colab\"/></a>"
      ]
    },
    {
      "cell_type": "markdown",
      "source": [
        "Downloading all datasets\n",
        "**bold text**"
      ],
      "metadata": {
        "id": "J0PcQ7cI8Qu9"
      }
    },
    {
      "cell_type": "code",
      "source": [
        "import os\n",
        "import sys\n",
        "from google.cloud import storage\n",
        "\n",
        "def download_public_file(bucket_name, source_blob_name, destination_file_name):\n",
        "    \"\"\"Downloads a public blob from the bucket with progress tracking.\"\"\"\n",
        "\n",
        "    storage_client = storage.Client.create_anonymous_client()\n",
        "    bucket = storage_client.bucket(bucket_name)\n",
        "    blob = bucket.blob(source_blob_name)\n",
        "\n",
        "    # Get the size of the blob\n",
        "    blob.reload()  # Ensures we have the latest metadata\n",
        "    file_size = blob.size\n",
        "\n",
        "    if file_size is None:\n",
        "        print(\"Could not retrieve file size.\")\n",
        "        return\n",
        "\n",
        "    # Stream the download\n",
        "    with open(destination_file_name, \"wb\") as file:\n",
        "        with blob.open(\"rb\") as blob_stream:\n",
        "            downloaded_bytes = 0\n",
        "            chunk_size = 1024 * 1024  # 1MB chunk size\n",
        "\n",
        "            while chunk := blob_stream.read(chunk_size):\n",
        "                file.write(chunk)\n",
        "                downloaded_bytes += len(chunk)\n",
        "                progress = (downloaded_bytes / file_size) * 100\n",
        "                sys.stdout.write(f\"\\rDownloading... {progress:.2f}% complete\")\n",
        "                sys.stdout.flush()\n",
        "\n",
        "    print(f\"\\nDownloaded public blob {source_blob_name} from bucket {bucket_name} to {destination_file_name}.\")\n"
      ],
      "metadata": {
        "id": "QrSdGjTr8W8f"
      },
      "execution_count": null,
      "outputs": []
    },
    {
      "cell_type": "code",
      "source": [
        "download_public_file(\"quickdraw_dataset\", \"full/numpy_bitmap/airplane.npy\", \"airplane.npy\")"
      ],
      "metadata": {
        "colab": {
          "base_uri": "https://localhost:8080/"
        },
        "id": "vwwD32-D8cct",
        "outputId": "095395b3-cc6f-4e73-c41a-ae04174b27a1"
      },
      "execution_count": null,
      "outputs": [
        {
          "output_type": "stream",
          "name": "stdout",
          "text": [
            "Downloading... 100.00% complete\n",
            "Downloaded public blob full/numpy_bitmap/airplane.npy from bucket quickdraw_dataset to airplane.npy.\n"
          ]
        }
      ]
    },
    {
      "cell_type": "code",
      "source": [
        "download_public_file(\"quickdraw_dataset\", \"full/numpy_bitmap/cat.npy\", \"cat.npy\")"
      ],
      "metadata": {
        "colab": {
          "base_uri": "https://localhost:8080/"
        },
        "id": "BgBbEAlH--Gg",
        "outputId": "c8a3dc5e-d3ff-4f83-f4d2-aea12fcf80bc"
      },
      "execution_count": null,
      "outputs": [
        {
          "output_type": "stream",
          "name": "stdout",
          "text": [
            "Downloading... 100.00% complete\n",
            "Downloaded public blob full/numpy_bitmap/cat.npy from bucket quickdraw_dataset to cat.npy.\n"
          ]
        }
      ]
    },
    {
      "cell_type": "code",
      "source": [
        "download_public_file(\"quickdraw_dataset\", \"full/numpy_bitmap/car.npy\", \"car.npy\")"
      ],
      "metadata": {
        "colab": {
          "base_uri": "https://localhost:8080/"
        },
        "id": "z8hUr38d_o4F",
        "outputId": "c2cff129-5632-450a-d6d0-fe8e3ed909a0"
      },
      "execution_count": null,
      "outputs": [
        {
          "output_type": "stream",
          "name": "stdout",
          "text": [
            "Downloading... 100.00% complete\n",
            "Downloaded public blob full/numpy_bitmap/car.npy from bucket quickdraw_dataset to car.npy.\n"
          ]
        }
      ]
    },
    {
      "cell_type": "code",
      "source": [
        "download_public_file(\"quickdraw_dataset\", \"full/numpy_bitmap/banana.npy\", \"banana.npy\")"
      ],
      "metadata": {
        "colab": {
          "base_uri": "https://localhost:8080/"
        },
        "id": "MFXvAJ1O_xGY",
        "outputId": "f2bb4e5f-6094-410a-fbb6-16a2a5a1879d"
      },
      "execution_count": null,
      "outputs": [
        {
          "output_type": "stream",
          "name": "stdout",
          "text": [
            "Downloading... 100.00% complete\n",
            "Downloaded public blob full/numpy_bitmap/banana.npy from bucket quickdraw_dataset to banana.npy.\n"
          ]
        }
      ]
    },
    {
      "cell_type": "code",
      "source": [
        "import numpy as np\n",
        "from PIL import Image\n",
        "\n",
        "airplane = np.load(\"airplane.npy\")\n"
      ],
      "metadata": {
        "id": "1eARRVbb_2rH"
      },
      "execution_count": null,
      "outputs": []
    },
    {
      "cell_type": "code",
      "source": [
        "for i in range(airplane.shape[0]):\n",
        "  airplane_image = Image.fromarray(airplane[i].reshape(28, 28))\n",
        "  airplane_image\n",
        "  binary_image = np.array(airplane_image.convert(\"L\").resize((28, 28)))\n",
        "  binary_image_array = np.where( binary_image > 10, 255, 0).astype(np.uint8)\n",
        "  airplane[i] = binary_image_array.flatten()\n"
      ],
      "metadata": {
        "id": "5-U8HsxGOzOE"
      },
      "execution_count": null,
      "outputs": []
    },
    {
      "cell_type": "code",
      "source": [
        "\n",
        "import cv2\n",
        "import numpy as np\n",
        "from PIL import Image\n",
        "\n",
        "# Assuming 'airplane' array is already loaded and processed as in the previous code.\n",
        "\n",
        "for i in range(airplane.shape[0]):\n",
        "    # Reshape the flattened array back to a 28x28 image\n",
        "    image_28x28 = airplane[i].reshape(28, 28).astype(np.uint8)\n",
        "\n",
        "    # Apply Otsu's thresholding\n",
        "    ret, thresholded_image = cv2.threshold(image_28x28, 0, 255, cv2.THRESH_BINARY + cv2.THRESH_OTSU)\n",
        "\n",
        "    # Now 'thresholded_image' contains the image after Otsu's thresholding\n",
        "    # You can further process or save this image\n",
        "\n",
        "    #Example to display using Pillow (optional):\n",
        "    #thresholded_image_pil = Image.fromarray(thresholded_image)\n",
        "    #thresholded_image_pil.show()\n",
        "\n",
        "    #Update the airplane array with the thresholded image (optional):\n",
        "    airplane[i] = thresholded_image.flatten()\n"
      ],
      "metadata": {
        "id": "7J66wAB1PIDh"
      },
      "execution_count": null,
      "outputs": []
    },
    {
      "cell_type": "code",
      "source": [
        "Image.fromarray(airplane[100].reshape(28, 28))"
      ],
      "metadata": {
        "colab": {
          "base_uri": "https://localhost:8080/",
          "height": 45
        },
        "id": "2cv4_FrhNOG4",
        "outputId": "32ff61ed-4ec5-4520-b251-f98d2093a35f"
      },
      "execution_count": null,
      "outputs": [
        {
          "output_type": "execute_result",
          "data": {
            "text/plain": [
              "<PIL.Image.Image image mode=L size=28x28>"
            ],
            "image/png": "[encoded data removed]",
            "image/jpeg": "[encoded data removed]"
          },
          "metadata": {},
          "execution_count": 112
        }
      ]
    },
    {
      "cell_type": "code",
      "source": [],
      "metadata": {
        "id": "WxxP2hcIPWd0"
      },
      "execution_count": null,
      "outputs": []
    },
    {
      "cell_type": "code",
      "source": [
        "cat = np.load(\"cat.npy\")"
      ],
      "metadata": {
        "colab": {
          "base_uri": "https://localhost:8080/",
          "height": 45
        },
        "id": "Pqk3OL-QAd9z",
        "outputId": "1833f8f0-3660-4a77-c2de-407207237677"
      },
      "execution_count": null,
      "outputs": [
        {
          "output_type": "execute_result",
          "data": {
            "text/plain": [
              "<PIL.Image.Image image mode=L size=28x28>"
            ],
            "image/png": "[encoded data removed]",
            "image/jpeg": "[encoded data removed]"
          },
          "metadata": {},
          "execution_count": 65
        }
      ]
    },
    {
      "cell_type": "code",
      "source": [
        "for i in range(cat.shape[0]):\n",
        "    # Reshape the flattened array back to a 28x28 image\n",
        "    image_28x28 = cat[i].reshape(28, 28).astype(np.uint8)\n",
        "\n",
        "    # Apply Otsu's thresholding\n",
        "    ret, thresholded_image = cv2.threshold(image_28x28, 0, 255, cv2.THRESH_BINARY + cv2.THRESH_OTSU)\n",
        "\n",
        "    # Now 'thresholded_image' contains the image after Otsu's thresholding\n",
        "    # You can further process or save this image\n",
        "\n",
        "    #Example to display using Pillow (optional):\n",
        "    #thresholded_image_pil = Image.fromarray(thresholded_image)\n",
        "    #thresholded_image_pil.show()\n",
        "\n",
        "    #Update the airplane array with the thresholded image (optional):\n",
        "    cat[i] = thresholded_image.flatten()"
      ],
      "metadata": {
        "id": "qTY-m2gaPeJn"
      },
      "execution_count": null,
      "outputs": []
    },
    {
      "cell_type": "code",
      "source": [
        "Image.fromarray(cat[105000].reshape(28, 28))"
      ],
      "metadata": {
        "colab": {
          "base_uri": "https://localhost:8080/",
          "height": 45
        },
        "id": "0_OTA99OPnks",
        "outputId": "714c33dd-56bb-4522-898c-6f85fe78cc8d"
      },
      "execution_count": null,
      "outputs": [
        {
          "output_type": "execute_result",
          "data": {
            "text/plain": [
              "<PIL.Image.Image image mode=L size=28x28>"
            ],
            "image/png": "[encoded data removed]",
            "image/jpeg": "[encoded data removed]"
          },
          "metadata": {},
          "execution_count": 120
        }
      ]
    },
    {
      "cell_type": "code",
      "source": [
        "banana = np.load(\"banana.npy\")"
      ],
      "metadata": {
        "id": "Yk0P72tgBpik"
      },
      "execution_count": null,
      "outputs": []
    },
    {
      "cell_type": "code",
      "source": [
        "for i in range(banana.shape[0]):\n",
        "    # Reshape the flattened array back to a 28x28 image\n",
        "    image_28x28 = banana[i].reshape(28, 28).astype(np.uint8)\n",
        "\n",
        "    # Apply Otsu's thresholding\n",
        "    ret, thresholded_image = cv2.threshold(image_28x28, 0, 255, cv2.THRESH_BINARY + cv2.THRESH_OTSU)\n",
        "\n",
        "    # Now 'thresholded_image' contains the image after Otsu's thresholding\n",
        "    # You can further process or save this image\n",
        "\n",
        "    #Example to display using Pillow (optional):\n",
        "    #thresholded_image_pil = Image.fromarray(thresholded_image)\n",
        "    #thresholded_image_pil.show()\n",
        "\n",
        "    #Update the airplane array with the thresholded image (optional):\n",
        "    banana[i] = thresholded_image.flatten()"
      ],
      "metadata": {
        "id": "WX_QV-r9WDkF"
      },
      "execution_count": null,
      "outputs": []
    },
    {
      "cell_type": "code",
      "source": [
        "import numpy as np\n",
        "from sklearn.model_selection import train_test_split\n",
        "from tensorflow.keras.utils import to_categorical\n",
        "from tensorflow.keras.models import Sequential\n",
        "from tensorflow.keras.layers import LSTM, Dense\n",
        "\n",
        "# Assuming 'airplane', 'cat', and 'banana' are preprocessed numpy arrays\n",
        "X = np.concatenate((airplane[:20000], cat[:20000], banana[:20000]), axis=0)\n",
        "y = np.concatenate((np.zeros(20000), np.ones(20000), np.full(20000, 2)), axis=0)\n",
        "\n",
        "# Reshape X for LSTM input (samples, timesteps, features)\n",
        "X = X.reshape(-1, 28, 28)\n",
        "\n",
        "# One-hot encode the labels for categorical classification\n",
        "y = to_categorical(y, num_classes=3)\n",
        "\n",
        "# Split data\n",
        "X_train, X_test, y_train, y_test = train_test_split(X, y, test_size=0.2, random_state=42)\n",
        "\n",
        "# Define LSTM model\n",
        "model = Sequential()\n",
        "model.add(LSTM(64, input_shape=(28, 28)))\n",
        "model.add(Dense(3, activation='softmax'))  # Softmax for multi-class classification\n",
        "\n",
        "# Compile model\n",
        "model.compile(optimizer='adam', loss='categorical_crossentropy', metrics=['accuracy'])\n",
        "\n",
        "# Train model\n",
        "model.fit(X_train, y_train, epochs=10, batch_size=32, validation_data=(X_test, y_test))\n",
        "\n",
        "# Evaluate model\n",
        "loss, accuracy = model.evaluate(X_test, y_test)\n",
        "print(f'Test Loss: {loss:.4f}')\n",
        "print(f'Test Accuracy: {accuracy:.4f}')"
      ],
      "metadata": {
        "colab": {
          "base_uri": "https://localhost:8080/"
        },
        "id": "HIvr01xaP-m-",
        "outputId": "469a4d4b-3678-46cc-e91b-c9e58857f69b"
      },
      "execution_count": null,
      "outputs": [
        {
          "output_type": "stream",
          "name": "stdout",
          "text": [
            "Epoch 1/10\n",
            "\u001b[1m1500/1500\u001b[0m \u001b[32m━━━━━━━━━━━━━━━━━━━━\u001b[0m\u001b[37m\u001b[0m \u001b[1m24s\u001b[0m 15ms/step - accuracy: 0.7622 - loss: 0.5692 - val_accuracy: 0.9078 - val_loss: 0.2626\n",
            "Epoch 2/10\n",
            "\u001b[1m1500/1500\u001b[0m \u001b[32m━━━━━━━━━━━━━━━━━━━━\u001b[0m\u001b[37m\u001b[0m \u001b[1m41s\u001b[0m 15ms/step - accuracy: 0.9259 - loss: 0.2106 - val_accuracy: 0.9377 - val_loss: 0.1767\n",
            "Epoch 3/10\n",
            "\u001b[1m1500/1500\u001b[0m \u001b[32m━━━━━━━━━━━━━━━━━━━━\u001b[0m\u001b[37m\u001b[0m \u001b[1m22s\u001b[0m 14ms/step - accuracy: 0.9465 - loss: 0.1525 - val_accuracy: 0.9485 - val_loss: 0.1490\n",
            "Epoch 4/10\n",
            "\u001b[1m1500/1500\u001b[0m \u001b[32m━━━━━━━━━━━━━━━━━━━━\u001b[0m\u001b[37m\u001b[0m \u001b[1m42s\u001b[0m 15ms/step - accuracy: 0.9572 - loss: 0.1285 - val_accuracy: 0.9574 - val_loss: 0.1262\n",
            "Epoch 5/10\n",
            "\u001b[1m1500/1500\u001b[0m \u001b[32m━━━━━━━━━━━━━━━━━━━━\u001b[0m\u001b[37m\u001b[0m \u001b[1m41s\u001b[0m 15ms/step - accuracy: 0.9641 - loss: 0.1068 - val_accuracy: 0.9606 - val_loss: 0.1115\n",
            "Epoch 6/10\n",
            "\u001b[1m1500/1500\u001b[0m \u001b[32m━━━━━━━━━━━━━━━━━━━━\u001b[0m\u001b[37m\u001b[0m \u001b[1m40s\u001b[0m 14ms/step - accuracy: 0.9646 - loss: 0.1005 - val_accuracy: 0.9637 - val_loss: 0.1044\n",
            "Epoch 7/10\n",
            "\u001b[1m1500/1500\u001b[0m \u001b[32m━━━━━━━━━━━━━━━━━━━━\u001b[0m\u001b[37m\u001b[0m \u001b[1m42s\u001b[0m 15ms/step - accuracy: 0.9684 - loss: 0.0898 - val_accuracy: 0.9707 - val_loss: 0.0845\n",
            "Epoch 8/10\n",
            "\u001b[1m1500/1500\u001b[0m \u001b[32m━━━━━━━━━━━━━━━━━━━━\u001b[0m\u001b[37m\u001b[0m \u001b[1m50s\u001b[0m 21ms/step - accuracy: 0.9716 - loss: 0.0808 - val_accuracy: 0.9652 - val_loss: 0.0966\n",
            "Epoch 9/10\n",
            "\u001b[1m1500/1500\u001b[0m \u001b[32m━━━━━━━━━━━━━━━━━━━━\u001b[0m\u001b[37m\u001b[0m \u001b[1m35s\u001b[0m 17ms/step - accuracy: 0.9728 - loss: 0.0798 - val_accuracy: 0.9700 - val_loss: 0.0888\n",
            "Epoch 10/10\n",
            "\u001b[1m1500/1500\u001b[0m \u001b[32m━━━━━━━━━━━━━━━━━━━━\u001b[0m\u001b[37m\u001b[0m \u001b[1m23s\u001b[0m 15ms/step - accuracy: 0.9719 - loss: 0.0786 - val_accuracy: 0.9693 - val_loss: 0.0885\n",
            "\u001b[1m375/375\u001b[0m \u001b[32m━━━━━━━━━━━━━━━━━━━━\u001b[0m\u001b[37m\u001b[0m \u001b[1m2s\u001b[0m 6ms/step - accuracy: 0.9690 - loss: 0.0874\n",
            "Test Loss: 0.0885\n",
            "Test Accuracy: 0.9693\n"
          ]
        }
      ]
    },
    {
      "cell_type": "code",
      "source": [
        "Image.fromarray(X_test[0].reshape(28, 28))"
      ],
      "metadata": {
        "colab": {
          "base_uri": "https://localhost:8080/",
          "height": 45
        },
        "id": "mSTNb2-5QyQZ",
        "outputId": "2b5e1eb5-4a16-4f9c-b713-e8b496fd2fc3"
      },
      "execution_count": null,
      "outputs": [
        {
          "output_type": "execute_result",
          "data": {
            "text/plain": [
              "<PIL.Image.Image image mode=L size=28x28>"
            ],
            "image/png": "[encoded data removed]",
            "image/jpeg": "[encoded data removed]"
          },
          "metadata": {},
          "execution_count": 172
        }
      ]
    },
    {
      "cell_type": "code",
      "source": [
        "Image.fromarray(X_test[1].reshape(28, 28))"
      ],
      "metadata": {
        "colab": {
          "base_uri": "https://localhost:8080/",
          "height": 45
        },
        "id": "SowGS9KnRO0X",
        "outputId": "aa7563c9-4bf0-41b4-9386-0d1da8104b13"
      },
      "execution_count": null,
      "outputs": [
        {
          "output_type": "execute_result",
          "data": {
            "text/plain": [
              "<PIL.Image.Image image mode=L size=28x28>"
            ],
            "image/png": "[encoded data removed]",
            "image/jpeg": "[encoded data removed]"
          },
          "metadata": {},
          "execution_count": 220
        }
      ]
    },
    {
      "cell_type": "code",
      "source": [
        "Image.fromarray(X_test[5].reshape(28, 28))"
      ],
      "metadata": {
        "colab": {
          "base_uri": "https://localhost:8080/",
          "height": 45
        },
        "id": "UG3HOTYJYlN5",
        "outputId": "a6483590-1559-458d-8f6f-4dcdc5fa11d1"
      },
      "execution_count": null,
      "outputs": [
        {
          "output_type": "execute_result",
          "data": {
            "text/plain": [
              "<PIL.Image.Image image mode=L size=28x28>"
            ],
            "image/png": "[encoded data removed]",
            "image/jpeg": "[encoded data removed]"
          },
          "metadata": {},
          "execution_count": 176
        }
      ]
    },
    {
      "cell_type": "code",
      "source": [
        "result = model.predict(X_test[553].reshape(1, 28, 28))\n",
        "result.argmax()"
      ],
      "metadata": {
        "colab": {
          "base_uri": "https://localhost:8080/"
        },
        "id": "vVZIDBo_Rfd8",
        "outputId": "cd0fe65f-f761-45fa-f347-30cd2f049e8d"
      },
      "execution_count": null,
      "outputs": [
        {
          "output_type": "stream",
          "name": "stdout",
          "text": [
            "\u001b[1m1/1\u001b[0m \u001b[32m━━━━━━━━━━━━━━━━━━━━\u001b[0m\u001b[37m\u001b[0m \u001b[1m0s\u001b[0m 53ms/step\n"
          ]
        },
        {
          "output_type": "execute_result",
          "data": {
            "text/plain": [
              "np.int64(0)"
            ]
          },
          "metadata": {},
          "execution_count": 215
        }
      ]
    },
    {
      "cell_type": "code",
      "source": [
        "result = model.predict(X_test[1].reshape(1, 28, 28))\n",
        "result.argmax()"
      ],
      "metadata": {
        "colab": {
          "base_uri": "https://localhost:8080/"
        },
        "id": "cfHulo-CRjj2",
        "outputId": "64ec6d22-5abb-458a-9124-bcda06fd413e"
      },
      "execution_count": null,
      "outputs": [
        {
          "output_type": "stream",
          "name": "stdout",
          "text": [
            "\u001b[1m1/1\u001b[0m \u001b[32m━━━━━━━━━━━━━━━━━━━━\u001b[0m\u001b[37m\u001b[0m \u001b[1m0s\u001b[0m 57ms/step\n"
          ]
        },
        {
          "output_type": "execute_result",
          "data": {
            "text/plain": [
              "np.int64(1)"
            ]
          },
          "metadata": {},
          "execution_count": 190
        }
      ]
    },
    {
      "cell_type": "markdown",
      "source": [],
      "metadata": {
        "id": "VeIZpyx7UuyO"
      }
    },
    {
      "cell_type": "code",
      "source": [],
      "metadata": {
        "id": "l80BEIYnYjet"
      },
      "execution_count": null,
      "outputs": []
    },
    {
      "cell_type": "code",
      "source": [
        "sample = Image.open(\"/content/1743862286389.png\")\n",
        "image_array = np.array(sample.convert(\"L\").resize((28, 28,),Image.Resampling.LANCZOS))\n",
        "ret, thresholded_image = cv2.threshold(image_array, 0, 255, cv2.THRESH_BINARY + cv2.THRESH_OTSU)\n",
        "Image.fromarray(thresholded_image)\n",
        "result = model.predict(thresholded_image.reshape(1, 28, 28))\n",
        "result.argmax()"
      ],
      "metadata": {
        "colab": {
          "base_uri": "https://localhost:8080/"
        },
        "id": "Sh00Rz3VTE8q",
        "outputId": "9f985871-36d4-4fb9-b57d-db9ee97e9799"
      },
      "execution_count": null,
      "outputs": [
        {
          "output_type": "stream",
          "name": "stdout",
          "text": [
            "\u001b[1m1/1\u001b[0m \u001b[32m━━━━━━━━━━━━━━━━━━━━\u001b[0m\u001b[37m\u001b[0m \u001b[1m0s\u001b[0m 38ms/step\n"
          ]
        },
        {
          "output_type": "execute_result",
          "data": {
            "text/plain": [
              "np.int64(2)"
            ]
          },
          "metadata": {},
          "execution_count": 197
        }
      ]
    },
    {
      "cell_type": "code",
      "source": [
        "sample = Image.open(\"/content/plane.png\")\n",
        "image_array = np.array(sample.convert(\"L\").resize((28, 28,),Image.Resampling.LANCZOS))\n",
        "ret, thresholded_image = cv2.threshold(image_array, 0, 255, cv2.THRESH_BINARY + cv2.THRESH_OTSU)\n",
        "Image.fromarray(thresholded_image)\n",
        "result = model.predict(thresholded_image.reshape(1, 28, 28))\n",
        "result.argmax()"
      ],
      "metadata": {
        "colab": {
          "base_uri": "https://localhost:8080/"
        },
        "id": "hrXDbTmKVdfh",
        "outputId": "39a26eef-4b0b-4282-f446-7e1d9ad68588"
      },
      "execution_count": null,
      "outputs": [
        {
          "output_type": "stream",
          "name": "stdout",
          "text": [
            "\u001b[1m1/1\u001b[0m \u001b[32m━━━━━━━━━━━━━━━━━━━━\u001b[0m\u001b[37m\u001b[0m \u001b[1m0s\u001b[0m 37ms/step\n"
          ]
        },
        {
          "output_type": "execute_result",
          "data": {
            "text/plain": [
              "np.int64(0)"
            ]
          },
          "metadata": {},
          "execution_count": 196
        }
      ]
    },
    {
      "cell_type": "code",
      "source": [
        "def _predict(image):\n",
        "  result = model.predict(image)\n",
        "  res = result.argmax()\n",
        "  if(res == 0):\n",
        "    return \"Plane\"\n",
        "  if(res == 1):\n",
        "    return \"Cat\"\n",
        "  if(res == 2):\n",
        "    return \"Banana\""
      ],
      "metadata": {
        "id": "oa9we0f4bjjY"
      },
      "execution_count": null,
      "outputs": []
    },
    {
      "cell_type": "code",
      "source": [
        "_predict(X_test[1].reshape(1, 28, 28))"
      ],
      "metadata": {
        "colab": {
          "base_uri": "https://localhost:8080/",
          "height": 53
        },
        "id": "Fjuwp0hkb4QI",
        "outputId": "3edc93a1-a169-4105-fc6c-036cdc3750f2"
      },
      "execution_count": null,
      "outputs": [
        {
          "output_type": "stream",
          "name": "stdout",
          "text": [
            "\u001b[1m1/1\u001b[0m \u001b[32m━━━━━━━━━━━━━━━━━━━━\u001b[0m\u001b[37m\u001b[0m \u001b[1m0s\u001b[0m 38ms/step\n"
          ]
        },
        {
          "output_type": "execute_result",
          "data": {
            "text/plain": [
              "'Cat'"
            ],
            "application/vnd.google.colaboratory.intrinsic+json": {
              "type": "string"
            }
          },
          "metadata": {},
          "execution_count": 219
        }
      ]
    },
    {
      "cell_type": "code",
      "source": [
        "model.save(\"classifier_sng.h5\")"
      ],
      "metadata": {
        "colab": {
          "base_uri": "https://localhost:8080/"
        },
        "id": "hQ5UBfVGcOQg",
        "outputId": "85de2b5e-3d59-4285-9b11-13c7078f5f29"
      },
      "execution_count": null,
      "outputs": [
        {
          "output_type": "stream",
          "name": "stderr",
          "text": [
            "WARNING:absl:You are saving your model as an HDF5 file via `model.save()` or `keras.saving.save_model(model)`. This file format is considered legacy. We recommend using instead the native Keras format, e.g. `model.save('my_model.keras')` or `keras.saving.save_model(model, 'my_model.keras')`. \n"
          ]
        }
      ]
    }
  ]
}